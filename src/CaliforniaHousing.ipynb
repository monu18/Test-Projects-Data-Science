{
 "cells": [
  {
   "cell_type": "code",
   "execution_count": 1,
   "id": "31534ed182c72857",
   "metadata": {
    "ExecuteTime": {
     "end_time": "2025-01-24T01:27:57.842368Z",
     "start_time": "2025-01-24T01:27:57.833557Z"
    }
   },
   "outputs": [
    {
     "name": "stdout",
     "output_type": "stream",
     "text": [
      "Test\n"
     ]
    }
   ],
   "source": [
    "print(\"Test\")"
   ]
  },
  {
   "cell_type": "code",
   "execution_count": 3,
   "id": "2e5e72d89cb76345",
   "metadata": {
    "ExecuteTime": {
     "end_time": "2025-01-24T01:29:52.864120Z",
     "start_time": "2025-01-24T01:29:52.829966Z"
    }
   },
   "outputs": [
    {
     "name": "stdout",
     "output_type": "stream",
     "text": [
      "   longitude  latitude\n",
      "0    -122.05     37.37\n",
      "1    -118.30     34.26\n",
      "2    -117.81     33.78\n",
      "3    -118.36     33.82\n",
      "4    -119.67     36.33\n",
      "5    -119.56     36.51\n",
      "6    -121.43     38.63\n",
      "7    -120.65     35.48\n",
      "8    -122.84     38.40\n",
      "9    -118.02     34.08\n"
     ]
    }
   ],
   "source": [
    "import pandas as pd\n",
    "\n",
    "try:\n",
    "    df = pd.read_csv('../data/california_housing_test.csv')\n",
    "    print(df[[\"longitude\",\"latitude\"]].head(10))\n",
    "except FileNotFoundError:\n",
    "    print(\"Error: 'california_housing_test.csv' not found\")"
   ]
  },
  {
   "cell_type": "code",
   "execution_count": 5,
   "id": "6487e690",
   "metadata": {},
   "outputs": [
    {
     "name": "stdout",
     "output_type": "stream",
     "text": [
      "   longitude  latitude  housing_median_age  total_rooms  total_bedrooms  \\\n",
      "0    -122.05     37.37                27.0       3885.0           661.0   \n",
      "1    -118.30     34.26                43.0       1510.0           310.0   \n",
      "2    -117.81     33.78                27.0       3589.0           507.0   \n",
      "\n",
      "   population  households  median_income  median_house_value  \n",
      "0      1537.0       606.0         6.6085            344700.0  \n",
      "1       809.0       277.0         3.5990            176500.0  \n",
      "2      1484.0       495.0         5.7934            270500.0  \n"
     ]
    }
   ],
   "source": [
    "df = pd.read_csv('../data/california_housing_test.csv')\n",
    "print(df[0:3])"
   ]
  }
 ],
 "metadata": {
  "kernelspec": {
   "display_name": "Python 3 (ipykernel)",
   "language": "python",
   "name": "python3"
  },
  "language_info": {
   "codemirror_mode": {
    "name": "ipython",
    "version": 3
   },
   "file_extension": ".py",
   "mimetype": "text/x-python",
   "name": "python",
   "nbconvert_exporter": "python",
   "pygments_lexer": "ipython3",
   "version": "3.11.4"
  }
 },
 "nbformat": 4,
 "nbformat_minor": 5
}
